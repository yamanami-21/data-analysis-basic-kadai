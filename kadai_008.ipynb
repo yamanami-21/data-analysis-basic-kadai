{
  "nbformat": 4,
  "nbformat_minor": 0,
  "metadata": {
    "colab": {
      "provenance": [],
      "authorship_tag": "ABX9TyOiY7u8W37Ge3DdPQFAKb4U"
    },
    "kernelspec": {
      "name": "python3",
      "display_name": "Python 3"
    },
    "language_info": {
      "name": "python"
    }
  },
  "cells": [
    {
      "cell_type": "code",
      "source": [
        "import pandas as pd\n",
        "from sklearn.datasets import load_wine\n",
        "from sklearn.ensemble import RandomForestClassifier as RFC\n",
        "from sklearn.model_selection import train_test_split\n",
        "from sklearn.metrics import accuracy_score\n",
        "\n",
        "df = pd.DataFrame(data=dataset.data,columns=dataset.feature_names)\n",
        "\n",
        "x = dataset.data\n",
        "y = dataset.target\n",
        "\n",
        "train_test_split(x,y,test_size=0.3,random_state=5)\n",
        "x_train,x_test,y_train,y_test = train_test_split(x,y,test_size=0.3,random_state=5)\n",
        "\n",
        "model = RFC(random_state=5)\n",
        "model.fit(x_train,y_train)\n",
        "model.score(x_test,y_test)\n",
        "\n",
        "y_pred = model.predict(x_test)\n",
        "\n",
        "accuracy_score(y_test, y_pred)\n"
      ],
      "metadata": {
        "colab": {
          "base_uri": "https://localhost:8080/"
        },
        "id": "6Pf4f90xbV1a",
        "outputId": "317a20b8-9139-4400-cba3-94f3536b50f5"
      },
      "execution_count": 7,
      "outputs": [
        {
          "output_type": "execute_result",
          "data": {
            "text/plain": [
              "0.9629629629629629"
            ]
          },
          "metadata": {},
          "execution_count": 7
        }
      ]
    }
  ]
}